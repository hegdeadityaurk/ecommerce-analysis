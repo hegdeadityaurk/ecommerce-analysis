{
 "cells": [
  {
   "cell_type": "code",
   "execution_count": null,
   "metadata": {},
   "outputs": [],
   "source": [
    "import pandas as pd\n",
    "\n",
    "# Load the datasets\n",
    "customers = pd.read_csv(r\"C:\\Users\\Aditya\\Downloads\\Customers.csv\")\n",
    "products = pd.read_csv(r\"C:\\Users\\Aditya\\Downloads\\Products.csv\")\n",
    "transactions = pd.read_csv(r\"C:\\Users\\Aditya\\Downloads\\Transactions.csv\")\n",
    "\n",
    "# Display basic information\n",
    "print(\"Customers Data Shape:\", customers.shape)\n",
    "print(\"Products Data Shape:\", products.shape)\n",
    "print(\"Transactions Data Shape:\", transactions.shape)\n",
    "\n",
    "# Display first few rows\n",
    "print(\"\\nCustomers Data Sample:\")\n",
    "print(customers.head())\n",
    "print(\"\\nProducts Data Sample:\")\n",
    "print(products.head())\n",
    "print(\"\\nTransactions Data Sample:\")\n",
    "print(transactions.head())\n"
   ]
  },
  {
   "cell_type": "code",
   "execution_count": null,
   "metadata": {},
   "outputs": [],
   "source": [
    "# Check for missing values\n",
    "print(\"Missing values in Customers:\", customers.isnull().sum())\n",
    "print(\"Missing values in Products:\", products.isnull().sum())\n",
    "print(\"Missing values in Transactions:\", transactions.isnull().sum())\n",
    "\n",
    "# Check for duplicates\n",
    "print(\"Duplicates in Customers:\", customers.duplicated().sum())\n",
    "print(\"Duplicates in Products:\", products.duplicated().sum())\n",
    "print(\"Duplicates in Transactions:\", transactions.duplicated().sum())\n",
    "\n",
    "# Drop duplicates\n",
    "customers = customers.drop_duplicates()\n",
    "products = products.drop_duplicates()\n",
    "transactions = transactions.drop_duplicates()\n"
   ]
  },
  {
   "cell_type": "code",
   "execution_count": null,
   "metadata": {},
   "outputs": [],
   "source": [
    "import matplotlib.pyplot as plt\n",
    "import seaborn as sns\n",
    "\n",
    "# 1. Customer Distribution by Region\n",
    "plt.figure(figsize=(10, 6))\n",
    "sns.countplot(x=\"Region\", data=customers)\n",
    "plt.title(\"Customer Distribution by Region\")\n",
    "plt.show()\n",
    "\n",
    "# 2. Product Category Distribution\n",
    "plt.figure(figsize=(10, 6))\n",
    "sns.countplot(x=\"Category\", data=products)\n",
    "plt.title(\"Product Category Distribution\")\n",
    "plt.show()\n",
    "\n",
    "# Ensure 'Month' is a string type for plotting and 'TotalValue' is numeric\n",
    "monthly_transactions[\"Month\"] = monthly_transactions[\"Month\"].astype(str)\n",
    "monthly_transactions[\"TotalValue\"] = pd.to_numeric(monthly_transactions[\"TotalValue\"], errors=\"coerce\")\n",
    "\n",
    "# Plot the transaction trends over time\n",
    "plt.figure(figsize=(12, 6))\n",
    "sns.lineplot(x=\"Month\", y=\"TotalValue\", data=monthly_transactions)\n",
    "plt.title(\"Monthly Transaction Trends\")\n",
    "plt.show()"
   ]
  }
 ],
 "metadata": {
  "kernelspec": {
   "display_name": "Python 3",
   "language": "python",
   "name": "python3"
  },
  "language_info": {
   "name": "python",
   "version": "3.7.9"
  }
 },
 "nbformat": 4,
 "nbformat_minor": 2
}
